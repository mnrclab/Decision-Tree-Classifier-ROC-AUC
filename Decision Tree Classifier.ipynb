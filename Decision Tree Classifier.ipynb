{
 "cells": [
  {
   "cell_type": "markdown",
   "metadata": {},
   "source": [
    "# **Decision Tree Classifier**"
   ]
  },
  {
   "cell_type": "markdown",
   "metadata": {},
   "source": [
    "As a marketing manager, you want a set of customers who are most likely to purchase your product. This is how you can save your marketing budget by finding your audience. As a loan manager, you need to identify risky loan applications to achieve a lower loan default rate. This process of classifying customers into a group of potential and non-potential customers or safe or risky loan applications is known as a classification problem. \n",
    "\n",
    "Classification is a two-step process, learning step and prediction step. In the learning step, the model is developed based on given training data. In the prediction step, the model is used to predict the response for given data. \n",
    "\n",
    "**Decision Tree** is one of the easiest and popular classification algorithms to understand and interpret. It can be utilized for both classification and regression kind of problem.\n",
    "\n",
    "<img src = 'b_img.png'>"
   ]
  },
  {
   "cell_type": "markdown",
   "metadata": {},
   "source": [
    "### **Decision Tree consists of :**\n",
    "\n",
    "1.    **Nodes** : Test for the value of a certain attribute.\n",
    "2.    **Edges/ Branch** : Correspond to the outcome of a test and connect to the next node or leaf.\n",
    "3.    **Leaf nodes** : Terminal nodes that predict the outcome (represent class labels or class distribution).\n",
    "\n",
    "<img src = 'a_img.png'>\n",
    "\n",
    "Let’s say you want to predict whether a person is fit or unfit, given their information like age, eating habits, physical activity, etc. The decision nodes are the questions like ‘What’s the age?’, ‘Does he exercise?’, ‘Does he eat a lot of pizzas’? And the leaves represent outcomes like either ‘fit’, or ‘unfit’.\n",
    "\n",
    "<img src = 'e_img.png'>\n",
    "\n",
    "1.    **Root Node**: It represents entire population or sample and this further gets divided into two or more homogeneous sets.\n",
    "\n",
    "2.    **Splitting**: It is a process of dividing a node into two or more sub-nodes.\n",
    "\n",
    "3.    **Decision Node**: When a sub-node splits into further sub-nodes, then it is called decision node.\n",
    "\n",
    "4.    **Leaf/ Terminal Node**: Nodes with no children (no further split) is called Leaf or Terminal node.\n",
    "\n",
    "5.    **Pruning**: When we reduce the size of decision trees by removing nodes (opposite of Splitting), the process is called pruning.\n",
    "\n",
    "6.    **Branch / Sub-Tree**: A sub section of decision tree is called branch or sub-tree.\n",
    "\n",
    "7.    **Parent and Child Node**: A node, which is divided into sub-nodes is called parent node of sub-nodes where as sub-nodes are the child of parent node.\n"
   ]
  },
  {
   "cell_type": "markdown",
   "metadata": {},
   "source": [
    "### **Creation of Decision Tree**\n",
    "\n",
    "In this method a set of training examples is broken down into smaller and smaller subsets while at the same time an associated decision tree get incrementally developed. At the end of the learning process, a decision tree covering the training set is returned.\n",
    "\n",
    "The key idea is to use a decision tree to partition the data space into cluster (or dense) regions and empty (or sparse) regions.\n",
    "\n",
    "In Decision Tree Classification a new example is classified by submitting it to a series of tests that determine the class label of the example. These tests are organized in a hierarchical structure called a decision tree. Decision Trees follow **Divide-and-Conquer Algorithm.**"
   ]
  },
  {
   "cell_type": "markdown",
   "metadata": {},
   "source": [
    "### **Divide and Conquer**\n",
    "\n",
    "Decision trees are built using a heuristic called recursive partitioning. This approach is also commonly known as divide and conquer because it splits the data into subsets, which are then split repeatedly into even smaller subsets, and so on and so forth until the process stops when the algorithm determines the data within the subsets are sufficiently homogenous, or another stopping criterion has been met.\n",
    "\n",
    "### **Basic Divide-and-Conquer Algorithm**\n",
    "\n",
    "1.    Select a test for root node. Create branch for each possible outcome of the test.\n",
    "2.    Split instances into subsets. One for each branch extending from the node.\n",
    "3.    Repeat recursively for each branch, using only instances that reach the branch.\n",
    "4.    Stop recursion for a branch if all its instances have the same class.\n",
    "\n",
    "### **Decision Tree Classifier**\n",
    "\n",
    "-    Using the decision algorithm, we start at the tree root and split the data on the feature that results in the **largest information gain (IG)** (reduction in uncertainty towards the final decision).\n",
    "-    In an iterative process, we can then repeat this splitting procedure at each child node until the **leaves are pur**e. This means that the samples at each leaf node all belong to the same class.\n",
    "-    In practice, we may set a **limit on the depth of the tree to prevent overfitting**. We compromise on purity here somewhat as the final leaves may still have some impurity."
   ]
  },
  {
   "cell_type": "markdown",
   "metadata": {},
   "source": [
    "## **How does the Decision Tree algorithm work?**\n",
    "\n",
    "The basic idea behind any decision tree algorithm is as follows:\n",
    "\n",
    "1.    Select the best attribute using Attribute Selection Measures(ASM) to split the records.\n",
    "2.    Make that attribute a decision node and breaks the dataset into smaller subsets.\n",
    "3.    Starts tree building by repeating this process recursively for each child until one of the condition will match:\n",
    "-        All the tuples belong to the same attribute value.\n",
    "-        There are no more remaining attributes.\n",
    "-        There are no more instances.\n",
    "\n",
    "<img src = 'c_img.png'>\n",
    "\n",
    "**Attribute Selection Measures**\n",
    "\n",
    "Attribute selection measure is a heuristic for selecting the splitting criterion that partition data into the best possible manner. It is also known as splitting rules because it helps us to determine breakpoints for tuples on a given node. ASM provides a rank to each feature(or attribute) by explaining the given dataset. Best score attribute will be selected as a splitting attribute (Source). In the case of a continuous-valued attribute, split points for branches also need to define. Most popular selection measures are Information Gain, Gain Ratio, and Gini Index."
   ]
  },
  {
   "cell_type": "markdown",
   "metadata": {},
   "source": [
    "## **Parameter of Decision Tree Classifier**\n",
    "\n",
    "### **max_depth**\n",
    "The first parameter to tune is max_depth. This indicates how deep the tree can be. The deeper the tree, the more splits it has and it captures more information about the data.\n",
    "\n",
    "Maximum depth of a tree. If the value is too high, it can result in overfitting and if the value is too high it can cause underfitting problems. The default value is “None” and in this example, it is selected as default value.\n",
    "\n",
    "max_depth : int or None, optional (default=None) or Maximum Depth of a Tree: The maximum depth of the tree. If None, then nodes are expanded until all the leaves contain less than min_samples_split samples. The higher value of maximum depth causes overfitting, and a lower value causes underfitting \n",
    "\n",
    "Example: We can try to fit a decision tree with depths ranging from 1 to 32 and plot the training and test auc scores. Model can be overfits for large depth values. The tree perfectly predicts all of the train data, however, it fails to generalize the findings for new data\n",
    "\n",
    "### **min_samples_split**\n",
    "min_samples_split represents the minimum number of samples required to split an internal node. This can vary between considering at least one sample at each node to considering all of the samples at each node. When we increase this parameter, the tree becomes more constrained as it has to consider more samples at each node. \n",
    "\n",
    "Example: We can try to vary the parameter from 10% to 100% of the samples. When we consider 100% of the samples at each node, the model cannot learn enough about the data. This is an underfitting case.\n",
    "\n",
    "### **max_features**\n",
    "max_features represents the number of features to consider when looking for the best split.\n",
    "\n",
    "### **criterion**\n",
    "Measuring the quality of a split. Gini index is for Gini impurity and entropy for information gain.\n",
    "\n",
    "criterion : optional (default=”gini”) or Choose attribute selection measure: This parameter allows us to use the different-different attribute selection measure. Supported criteria are “gini” for the Gini index and “entropy” for the information gain.\n",
    "\n",
    "### **splitter**\n",
    "The strategy for selecting the split at each node. Best is the default value.\n",
    "\n",
    "splitter: string, optional (default=”best”) or Split Strategy: This parameter allows us to choose the split strategy. Supported strategies are “best” to choose the best split and “random” to choose the best random split."
   ]
  },
  {
   "cell_type": "markdown",
   "metadata": {},
   "source": [
    "# Advantages vs Disadvantages\n",
    "### **Advantages of Classification with Decision Trees**\n",
    "\n",
    "-    Inexpensive to construct.\n",
    "-    Extremely fast at classifying unknown records.\n",
    "-    Easy to interpret for small-sized trees\n",
    "-    Accuracy comparable to other classification techniques for many simple data sets.\n",
    "-    Excludes unimportant features.\n",
    "\n",
    "### **Disadvantages of Classification with Decision Trees**\n",
    "\n",
    "-    Easy to overfit.\n",
    "-    Decision Boundary restricted to being parallel to attribute axes.\n",
    "-    Decision tree models are often biased toward splits on features having a large number of levels.\n",
    "-    Small changes in the training data can result in large changes to decision logic.\n",
    "-    Large trees can be difficult to interpret and the decisions they make may seem counter intuitive."
   ]
  },
  {
   "cell_type": "code",
   "execution_count": 72,
   "metadata": {},
   "outputs": [],
   "source": [
    "import pandas as pd\n",
    "import numpy as np\n",
    "import seaborn as sns\n",
    "import matplotlib.pyplot as plt\n",
    "\n",
    "from sklearn.model_selection import train_test_split\n",
    "from sklearn.tree import DecisionTreeClassifier\n",
    "\n",
    "from sklearn.metrics import confusion_matrix\n",
    "from sklearn.metrics import classification_report"
   ]
  },
  {
   "cell_type": "code",
   "execution_count": 73,
   "metadata": {},
   "outputs": [
    {
     "data": {
      "text/html": [
       "<div>\n",
       "<style scoped>\n",
       "    .dataframe tbody tr th:only-of-type {\n",
       "        vertical-align: middle;\n",
       "    }\n",
       "\n",
       "    .dataframe tbody tr th {\n",
       "        vertical-align: top;\n",
       "    }\n",
       "\n",
       "    .dataframe thead th {\n",
       "        text-align: right;\n",
       "    }\n",
       "</style>\n",
       "<table border=\"1\" class=\"dataframe\">\n",
       "  <thead>\n",
       "    <tr style=\"text-align: right;\">\n",
       "      <th></th>\n",
       "      <th>diagnosis</th>\n",
       "      <th>radius_mean</th>\n",
       "      <th>texture_mean</th>\n",
       "      <th>perimeter_mean</th>\n",
       "      <th>area_mean</th>\n",
       "      <th>smoothness_mean</th>\n",
       "      <th>compactness_mean</th>\n",
       "      <th>concavity_mean</th>\n",
       "      <th>concave points_mean</th>\n",
       "      <th>symmetry_mean</th>\n",
       "      <th>...</th>\n",
       "      <th>radius_worst</th>\n",
       "      <th>texture_worst</th>\n",
       "      <th>perimeter_worst</th>\n",
       "      <th>area_worst</th>\n",
       "      <th>smoothness_worst</th>\n",
       "      <th>compactness_worst</th>\n",
       "      <th>concavity_worst</th>\n",
       "      <th>concave points_worst</th>\n",
       "      <th>symmetry_worst</th>\n",
       "      <th>fractal_dimension_worst</th>\n",
       "    </tr>\n",
       "  </thead>\n",
       "  <tbody>\n",
       "    <tr>\n",
       "      <th>0</th>\n",
       "      <td>1</td>\n",
       "      <td>17.99</td>\n",
       "      <td>10.38</td>\n",
       "      <td>122.8</td>\n",
       "      <td>1001.0</td>\n",
       "      <td>0.11840</td>\n",
       "      <td>0.27760</td>\n",
       "      <td>0.3001</td>\n",
       "      <td>0.14710</td>\n",
       "      <td>0.2419</td>\n",
       "      <td>...</td>\n",
       "      <td>25.38</td>\n",
       "      <td>17.33</td>\n",
       "      <td>184.6</td>\n",
       "      <td>2019.0</td>\n",
       "      <td>0.1622</td>\n",
       "      <td>0.6656</td>\n",
       "      <td>0.7119</td>\n",
       "      <td>0.2654</td>\n",
       "      <td>0.4601</td>\n",
       "      <td>0.11890</td>\n",
       "    </tr>\n",
       "    <tr>\n",
       "      <th>1</th>\n",
       "      <td>1</td>\n",
       "      <td>20.57</td>\n",
       "      <td>17.77</td>\n",
       "      <td>132.9</td>\n",
       "      <td>1326.0</td>\n",
       "      <td>0.08474</td>\n",
       "      <td>0.07864</td>\n",
       "      <td>0.0869</td>\n",
       "      <td>0.07017</td>\n",
       "      <td>0.1812</td>\n",
       "      <td>...</td>\n",
       "      <td>24.99</td>\n",
       "      <td>23.41</td>\n",
       "      <td>158.8</td>\n",
       "      <td>1956.0</td>\n",
       "      <td>0.1238</td>\n",
       "      <td>0.1866</td>\n",
       "      <td>0.2416</td>\n",
       "      <td>0.1860</td>\n",
       "      <td>0.2750</td>\n",
       "      <td>0.08902</td>\n",
       "    </tr>\n",
       "    <tr>\n",
       "      <th>2</th>\n",
       "      <td>1</td>\n",
       "      <td>19.69</td>\n",
       "      <td>21.25</td>\n",
       "      <td>130.0</td>\n",
       "      <td>1203.0</td>\n",
       "      <td>0.10960</td>\n",
       "      <td>0.15990</td>\n",
       "      <td>0.1974</td>\n",
       "      <td>0.12790</td>\n",
       "      <td>0.2069</td>\n",
       "      <td>...</td>\n",
       "      <td>23.57</td>\n",
       "      <td>25.53</td>\n",
       "      <td>152.5</td>\n",
       "      <td>1709.0</td>\n",
       "      <td>0.1444</td>\n",
       "      <td>0.4245</td>\n",
       "      <td>0.4504</td>\n",
       "      <td>0.2430</td>\n",
       "      <td>0.3613</td>\n",
       "      <td>0.08758</td>\n",
       "    </tr>\n",
       "  </tbody>\n",
       "</table>\n",
       "<p>3 rows × 31 columns</p>\n",
       "</div>"
      ],
      "text/plain": [
       "   diagnosis  radius_mean  texture_mean  perimeter_mean  area_mean  \\\n",
       "0          1        17.99         10.38           122.8     1001.0   \n",
       "1          1        20.57         17.77           132.9     1326.0   \n",
       "2          1        19.69         21.25           130.0     1203.0   \n",
       "\n",
       "   smoothness_mean  compactness_mean  concavity_mean  concave points_mean  \\\n",
       "0          0.11840           0.27760          0.3001              0.14710   \n",
       "1          0.08474           0.07864          0.0869              0.07017   \n",
       "2          0.10960           0.15990          0.1974              0.12790   \n",
       "\n",
       "   symmetry_mean  ...  radius_worst  texture_worst  perimeter_worst  \\\n",
       "0         0.2419  ...         25.38          17.33            184.6   \n",
       "1         0.1812  ...         24.99          23.41            158.8   \n",
       "2         0.2069  ...         23.57          25.53            152.5   \n",
       "\n",
       "   area_worst  smoothness_worst  compactness_worst  concavity_worst  \\\n",
       "0      2019.0            0.1622             0.6656           0.7119   \n",
       "1      1956.0            0.1238             0.1866           0.2416   \n",
       "2      1709.0            0.1444             0.4245           0.4504   \n",
       "\n",
       "   concave points_worst  symmetry_worst  fractal_dimension_worst  \n",
       "0                0.2654          0.4601                  0.11890  \n",
       "1                0.1860          0.2750                  0.08902  \n",
       "2                0.2430          0.3613                  0.08758  \n",
       "\n",
       "[3 rows x 31 columns]"
      ]
     },
     "execution_count": 73,
     "metadata": {},
     "output_type": "execute_result"
    }
   ],
   "source": [
    "# membaca dataset \n",
    "data = pd.read_csv(\"cancer.csv\")\n",
    "\n",
    "#mengahapus kolom yang tidak digunakan\n",
    "data.drop([\"Unnamed: 32\",\"id\"], axis=1, inplace=True)\n",
    "\n",
    "# merubah label M (ganas) = 1 dan B (jinak) = 0\n",
    "data.diagnosis = [1 if each == \"M\" else 0 for each in data.diagnosis]\n",
    "\n",
    "# menampilkan sample data\n",
    "data.head(3) "
   ]
  },
  {
   "cell_type": "markdown",
   "metadata": {},
   "source": [
    "### **Spliting Dataset**"
   ]
  },
  {
   "cell_type": "code",
   "execution_count": 74,
   "metadata": {},
   "outputs": [],
   "source": [
    "x = data.drop(['diagnosis'], axis=1)\n",
    "y = data['diagnosis']"
   ]
  },
  {
   "cell_type": "code",
   "execution_count": 75,
   "metadata": {},
   "outputs": [],
   "source": [
    "x_train, x_test, y_train, y_test = train_test_split(x, y, test_size=0.10, shuffle=False)"
   ]
  },
  {
   "cell_type": "markdown",
   "metadata": {},
   "source": [
    "### **Fitting Model**"
   ]
  },
  {
   "cell_type": "code",
   "execution_count": 76,
   "metadata": {},
   "outputs": [
    {
     "data": {
      "text/plain": [
       "DecisionTreeClassifier(ccp_alpha=0.0, class_weight=None, criterion='gini',\n",
       "                       max_depth=None, max_features=None, max_leaf_nodes=None,\n",
       "                       min_impurity_decrease=0.0, min_impurity_split=None,\n",
       "                       min_samples_leaf=1, min_samples_split=2,\n",
       "                       min_weight_fraction_leaf=0.0, presort='deprecated',\n",
       "                       random_state=None, splitter='best')"
      ]
     },
     "execution_count": 76,
     "metadata": {},
     "output_type": "execute_result"
    }
   ],
   "source": [
    "model = DecisionTreeClassifier()\n",
    "model.fit(x_train, y_train)"
   ]
  },
  {
   "cell_type": "markdown",
   "metadata": {},
   "source": [
    "### **Predict**"
   ]
  },
  {
   "cell_type": "code",
   "execution_count": 77,
   "metadata": {},
   "outputs": [],
   "source": [
    "# prediksi\n",
    "y_pred = model.predict(x_test) "
   ]
  },
  {
   "cell_type": "code",
   "execution_count": 87,
   "metadata": {},
   "outputs": [
    {
     "data": {
      "text/plain": [
       "array([1], dtype=int64)"
      ]
     },
     "execution_count": 87,
     "metadata": {},
     "output_type": "execute_result"
    }
   ],
   "source": [
    "# trying to predict using model\n",
    "coba = x_test.iloc[:1]\n",
    "model.predict(coba)\n",
    "# coba"
   ]
  },
  {
   "cell_type": "markdown",
   "metadata": {},
   "source": [
    "### **Visualizing Decision Trees**"
   ]
  },
  {
   "cell_type": "code",
   "execution_count": 88,
   "metadata": {},
   "outputs": [
    {
     "data": {
      "text/plain": [
       "[Text(613.8000000000001, 1026.8, 'X[22] <= 105.95\\ngini = 0.474\\nsamples = 512\\nvalue = [314, 198]'),\n",
       " Text(409.20000000000005, 906.0, 'X[27] <= 0.159\\ngini = 0.1\\nsamples = 304\\nvalue = [288, 16]'),\n",
       " Text(334.8, 785.2, 'X[12] <= 6.597\\ngini = 0.047\\nsamples = 293\\nvalue = [286, 7]'),\n",
       " Text(297.6, 664.4, 'X[24] <= 0.178\\ngini = 0.04\\nsamples = 292\\nvalue = [286, 6]'),\n",
       " Text(186.0, 543.6, 'X[21] <= 30.145\\ngini = 0.027\\nsamples = 288\\nvalue = [284, 4]'),\n",
       " Text(74.4, 422.79999999999995, 'X[13] <= 48.975\\ngini = 0.008\\nsamples = 258\\nvalue = [257, 1]'),\n",
       " Text(37.2, 302.0, 'gini = 0.0\\nsamples = 254\\nvalue = [254, 0]'),\n",
       " Text(111.60000000000001, 302.0, 'X[10] <= 0.688\\ngini = 0.375\\nsamples = 4\\nvalue = [3, 1]'),\n",
       " Text(74.4, 181.19999999999993, 'gini = 0.0\\nsamples = 1\\nvalue = [0, 1]'),\n",
       " Text(148.8, 181.19999999999993, 'gini = 0.0\\nsamples = 3\\nvalue = [3, 0]'),\n",
       " Text(297.6, 422.79999999999995, 'X[20] <= 15.77\\ngini = 0.18\\nsamples = 30\\nvalue = [27, 3]'),\n",
       " Text(260.40000000000003, 302.0, 'X[27] <= 0.09\\ngini = 0.069\\nsamples = 28\\nvalue = [27, 1]'),\n",
       " Text(223.20000000000002, 181.19999999999993, 'gini = 0.0\\nsamples = 23\\nvalue = [23, 0]'),\n",
       " Text(297.6, 181.19999999999993, 'X[15] <= 0.013\\ngini = 0.32\\nsamples = 5\\nvalue = [4, 1]'),\n",
       " Text(260.40000000000003, 60.399999999999864, 'gini = 0.0\\nsamples = 1\\nvalue = [0, 1]'),\n",
       " Text(334.8, 60.399999999999864, 'gini = 0.0\\nsamples = 4\\nvalue = [4, 0]'),\n",
       " Text(334.8, 302.0, 'gini = 0.0\\nsamples = 2\\nvalue = [0, 2]'),\n",
       " Text(409.20000000000005, 543.6, 'X[11] <= 1.409\\ngini = 0.5\\nsamples = 4\\nvalue = [2, 2]'),\n",
       " Text(372.0, 422.79999999999995, 'gini = 0.0\\nsamples = 2\\nvalue = [2, 0]'),\n",
       " Text(446.40000000000003, 422.79999999999995, 'gini = 0.0\\nsamples = 2\\nvalue = [0, 2]'),\n",
       " Text(372.0, 664.4, 'gini = 0.0\\nsamples = 1\\nvalue = [0, 1]'),\n",
       " Text(483.6, 785.2, 'X[21] <= 23.47\\ngini = 0.298\\nsamples = 11\\nvalue = [2, 9]'),\n",
       " Text(446.40000000000003, 664.4, 'gini = 0.0\\nsamples = 2\\nvalue = [2, 0]'),\n",
       " Text(520.8000000000001, 664.4, 'gini = 0.0\\nsamples = 9\\nvalue = [0, 9]'),\n",
       " Text(818.4000000000001, 906.0, 'X[7] <= 0.049\\ngini = 0.219\\nsamples = 208\\nvalue = [26, 182]'),\n",
       " Text(669.6, 785.2, 'X[21] <= 29.13\\ngini = 0.48\\nsamples = 30\\nvalue = [18, 12]'),\n",
       " Text(595.2, 664.4, 'X[28] <= 0.314\\ngini = 0.255\\nsamples = 20\\nvalue = [17, 3]'),\n",
       " Text(558.0, 543.6, 'gini = 0.0\\nsamples = 17\\nvalue = [17, 0]'),\n",
       " Text(632.4000000000001, 543.6, 'gini = 0.0\\nsamples = 3\\nvalue = [0, 3]'),\n",
       " Text(744.0, 664.4, 'X[25] <= 0.311\\ngini = 0.18\\nsamples = 10\\nvalue = [1, 9]'),\n",
       " Text(706.8000000000001, 543.6, 'gini = 0.0\\nsamples = 9\\nvalue = [0, 9]'),\n",
       " Text(781.2, 543.6, 'gini = 0.0\\nsamples = 1\\nvalue = [1, 0]'),\n",
       " Text(967.2, 785.2, 'X[21] <= 20.645\\ngini = 0.086\\nsamples = 178\\nvalue = [8, 170]'),\n",
       " Text(892.8000000000001, 664.4, 'X[23] <= 951.85\\ngini = 0.498\\nsamples = 15\\nvalue = [7, 8]'),\n",
       " Text(855.6, 543.6, 'gini = 0.0\\nsamples = 7\\nvalue = [7, 0]'),\n",
       " Text(930.0000000000001, 543.6, 'gini = 0.0\\nsamples = 8\\nvalue = [0, 8]'),\n",
       " Text(1041.6000000000001, 664.4, 'X[19] <= 0.013\\ngini = 0.012\\nsamples = 163\\nvalue = [1, 162]'),\n",
       " Text(1004.4000000000001, 543.6, 'gini = 0.0\\nsamples = 162\\nvalue = [0, 162]'),\n",
       " Text(1078.8000000000002, 543.6, 'gini = 0.0\\nsamples = 1\\nvalue = [1, 0]')]"
      ]
     },
     "execution_count": 88,
     "metadata": {},
     "output_type": "execute_result"
    },
    {
     "data": {
      "image/png": "[encoded data removed]",
      "text/plain": [
       "<Figure size 1440x1440 with 1 Axes>"
      ]
     },
     "metadata": {
      "needs_background": "light"
     },
     "output_type": "display_data"
    }
   ],
   "source": [
    "from sklearn import tree\n",
    "plt.figure(figsize=(20,20))\n",
    "tree.plot_tree(model.fit(x_train, y_train))"
   ]
  },
  {
   "cell_type": "code",
   "execution_count": 17,
   "metadata": {},
   "outputs": [],
   "source": [
    "DT_columns = x_train.columns.tolist()\n",
    "class_name = ['Ganas', 'Jinak']"
   ]
  },
  {
   "cell_type": "code",
   "execution_count": 18,
   "metadata": {},
   "outputs": [],
   "source": [
    "tree.export_graphviz(\n",
    "    model.fit(x_train, y_train),\n",
    "    out_file = 'decision.dot',\n",
    "    feature_names = DT_columns,\n",
    "    class_names = class_name\n",
    ")"
   ]
  },
  {
   "cell_type": "markdown",
   "metadata": {},
   "source": [
    "### **Cet your dot in this site: http://dreampuf.github.io/GraphvizOnline**"
   ]
  },
  {
   "cell_type": "markdown",
   "metadata": {},
   "source": [
    "<img src = 'DT Visualization.png'>"
   ]
  },
  {
   "cell_type": "markdown",
   "metadata": {},
   "source": [
    "### **Evaluating Model**"
   ]
  },
  {
   "cell_type": "code",
   "execution_count": 80,
   "metadata": {},
   "outputs": [
    {
     "data": {
      "text/plain": [
       "array([[42,  1],\n",
       "       [ 2, 12]], dtype=int64)"
      ]
     },
     "execution_count": 80,
     "metadata": {},
     "output_type": "execute_result"
    }
   ],
   "source": [
    "confusion_matrix(y_test, y_pred) "
   ]
  },
  {
   "cell_type": "code",
   "execution_count": 81,
   "metadata": {},
   "outputs": [
    {
     "data": {
      "image/png": "[encoded data removed]",
      "text/plain": [
       "<Figure size 576x360 with 2 Axes>"
      ]
     },
     "metadata": {
      "needs_background": "light"
     },
     "output_type": "display_data"
    }
   ],
   "source": [
    "f, ax = plt.subplots(figsize=(8,5))\n",
    "sns.heatmap(confusion_matrix(y_test, y_pred), annot=True, fmt=\".0f\", ax=ax)\n",
    "plt.xlabel(\"y Aktual\")\n",
    "plt.ylabel(\"y Prediksi\")\n",
    "plt.show()"
   ]
  },
  {
   "cell_type": "code",
   "execution_count": 82,
   "metadata": {},
   "outputs": [
    {
     "name": "stdout",
     "output_type": "stream",
     "text": [
      "              precision    recall  f1-score   support\n",
      "\n",
      "           0       0.95      0.98      0.97        43\n",
      "           1       0.92      0.86      0.89        14\n",
      "\n",
      "    accuracy                           0.95        57\n",
      "   macro avg       0.94      0.92      0.93        57\n",
      "weighted avg       0.95      0.95      0.95        57\n",
      "\n"
     ]
    }
   ],
   "source": [
    "# Confusion Matrix Report\n",
    "print(classification_report(y_test, y_pred))"
   ]
  },
  {
   "cell_type": "code",
   "execution_count": 83,
   "metadata": {},
   "outputs": [
    {
     "data": {
      "text/plain": [
       "1.0"
      ]
     },
     "execution_count": 83,
     "metadata": {},
     "output_type": "execute_result"
    }
   ],
   "source": [
    "model.score(x_train, y_train)"
   ]
  },
  {
   "cell_type": "code",
   "execution_count": 84,
   "metadata": {},
   "outputs": [
    {
     "data": {
      "text/plain": [
       "0.9473684210526315"
      ]
     },
     "execution_count": 84,
     "metadata": {},
     "output_type": "execute_result"
    }
   ],
   "source": [
    "model.score(x_test, y_test)"
   ]
  },
  {
   "cell_type": "markdown",
   "metadata": {},
   "source": [
    "# **ROC AUC**\n",
    "**Receiver Operating Characteristic (ROC)** summarizes the model’s performance by evaluating the trade-offs between true positive rate (sensitivity) and false positive rate (1- specificity). For plotting ROC, it is advisable to assume p > 0.5 since we are more concerned about success rate. ROC summarizes the predictive power for all possible values of p > 0.5. \n",
    "\n",
    "ROC Curve: This is a commonly used graph that summarizes the performance of a classifier over all possible thresholds. It is generated by plotting the True Positive Rate (y-axis) against the False Positive Rate (x-axis) as you vary the threshold for assigning observations to a given class\n",
    "\n",
    "The **area under curve (AUC)**, referred to as index of accuracy (A) or concordance index, is a perfect performance metric for ROC curve. Higher the area under curve, better the prediction power of the model. Below is a sample ROC curve. The ROC of a perfect predictive model has TP equals 1 and FP equals 0. This curve will touch the top left corner of the graph.\n",
    "\n",
    "<img src = 'f_img.png'>\n",
    "\n"
   ]
  },
  {
   "cell_type": "markdown",
   "metadata": {},
   "source": [
    "## 1. Preparing Dataset"
   ]
  },
  {
   "cell_type": "code",
   "execution_count": 39,
   "metadata": {},
   "outputs": [
    {
     "data": {
      "text/plain": [
       "['DESCR', 'data', 'feature_names', 'filename', 'target', 'target_names']"
      ]
     },
     "execution_count": 39,
     "metadata": {},
     "output_type": "execute_result"
    }
   ],
   "source": [
    "from sklearn.datasets import load_iris\n",
    "dataIris = load_iris()\n",
    "dir(dataIris)"
   ]
  },
  {
   "cell_type": "code",
   "execution_count": 40,
   "metadata": {},
   "outputs": [
    {
     "data": {
      "text/html": [
       "<div>\n",
       "<style scoped>\n",
       "    .dataframe tbody tr th:only-of-type {\n",
       "        vertical-align: middle;\n",
       "    }\n",
       "\n",
       "    .dataframe tbody tr th {\n",
       "        vertical-align: top;\n",
       "    }\n",
       "\n",
       "    .dataframe thead th {\n",
       "        text-align: right;\n",
       "    }\n",
       "</style>\n",
       "<table border=\"1\" class=\"dataframe\">\n",
       "  <thead>\n",
       "    <tr style=\"text-align: right;\">\n",
       "      <th></th>\n",
       "      <th>SL</th>\n",
       "      <th>SW</th>\n",
       "      <th>PL</th>\n",
       "      <th>PW</th>\n",
       "      <th>target</th>\n",
       "      <th>spesies</th>\n",
       "    </tr>\n",
       "  </thead>\n",
       "  <tbody>\n",
       "    <tr>\n",
       "      <th>0</th>\n",
       "      <td>5.1</td>\n",
       "      <td>3.5</td>\n",
       "      <td>1.4</td>\n",
       "      <td>0.2</td>\n",
       "      <td>0</td>\n",
       "      <td>setosa</td>\n",
       "    </tr>\n",
       "    <tr>\n",
       "      <th>1</th>\n",
       "      <td>4.9</td>\n",
       "      <td>3.0</td>\n",
       "      <td>1.4</td>\n",
       "      <td>0.2</td>\n",
       "      <td>0</td>\n",
       "      <td>setosa</td>\n",
       "    </tr>\n",
       "    <tr>\n",
       "      <th>2</th>\n",
       "      <td>4.7</td>\n",
       "      <td>3.2</td>\n",
       "      <td>1.3</td>\n",
       "      <td>0.2</td>\n",
       "      <td>0</td>\n",
       "      <td>setosa</td>\n",
       "    </tr>\n",
       "    <tr>\n",
       "      <th>3</th>\n",
       "      <td>4.6</td>\n",
       "      <td>3.1</td>\n",
       "      <td>1.5</td>\n",
       "      <td>0.2</td>\n",
       "      <td>0</td>\n",
       "      <td>setosa</td>\n",
       "    </tr>\n",
       "    <tr>\n",
       "      <th>4</th>\n",
       "      <td>5.0</td>\n",
       "      <td>3.6</td>\n",
       "      <td>1.4</td>\n",
       "      <td>0.2</td>\n",
       "      <td>0</td>\n",
       "      <td>setosa</td>\n",
       "    </tr>\n",
       "  </tbody>\n",
       "</table>\n",
       "</div>"
      ],
      "text/plain": [
       "    SL   SW   PL   PW  target spesies\n",
       "0  5.1  3.5  1.4  0.2       0  setosa\n",
       "1  4.9  3.0  1.4  0.2       0  setosa\n",
       "2  4.7  3.2  1.3  0.2       0  setosa\n",
       "3  4.6  3.1  1.5  0.2       0  setosa\n",
       "4  5.0  3.6  1.4  0.2       0  setosa"
      ]
     },
     "execution_count": 40,
     "metadata": {},
     "output_type": "execute_result"
    }
   ],
   "source": [
    "df = pd.DataFrame(\n",
    "    dataIris['data'],\n",
    "#     columns = dataIris['feature_names']\n",
    "    columns = ['SL', 'SW', 'PL', 'PW']\n",
    ")\n",
    "\n",
    "df['target'] = dataIris['target']\n",
    "df['spesies'] = df['target'].apply(\n",
    "    lambda x: dataIris['target_names'][x])\n",
    "\n",
    "df.head()"
   ]
  },
  {
   "cell_type": "code",
   "execution_count": 41,
   "metadata": {},
   "outputs": [
    {
     "data": {
      "text/plain": [
       "[<matplotlib.lines.Line2D at 0x12aa0bf8>]"
      ]
     },
     "execution_count": 41,
     "metadata": {},
     "output_type": "execute_result"
    },
    {
     "data": {
      "image/png": "[encoded data removed]",
      "text/plain": [
       "<Figure size 432x288 with 2 Axes>"
      ]
     },
     "metadata": {
      "needs_background": "light"
     },
     "output_type": "display_data"
    }
   ],
   "source": [
    "plt.figure()\n",
    "plt.subplot(121)\n",
    "plt.plot(df['SL'][df['target'] == 0], df['SW'][df['target'] == 0], 'r.')\n",
    "plt.plot(df['SL'][df['target'] == 1], df['SW'][df['target'] == 1], 'g.')\n",
    "plt.plot(df['SL'][df['target'] == 2], df['SW'][df['target'] == 2], 'b.')\n",
    "plt.subplot(122)\n",
    "plt.plot(df['PL'][df['target'] == 0], df['PW'][df['target'] == 0], 'r.')\n",
    "plt.plot(df['PL'][df['target'] == 1], df['PW'][df['target'] == 1], 'g.')\n",
    "plt.plot(df['PL'][df['target'] == 2], df['PW'][df['target'] == 2], 'b.')"
   ]
  },
  {
   "cell_type": "markdown",
   "metadata": {},
   "source": [
    "## 2. Splitting Dataset"
   ]
  },
  {
   "cell_type": "code",
   "execution_count": 42,
   "metadata": {},
   "outputs": [],
   "source": [
    "from sklearn.model_selection import train_test_split\n",
    "xtr, xts, ytr, yts = train_test_split(df[['SL', 'SW', 'PL', 'PW']], df['target'])"
   ]
  },
  {
   "cell_type": "markdown",
   "metadata": {},
   "source": [
    "## 3. Trying Any Model"
   ]
  },
  {
   "cell_type": "code",
   "execution_count": 52,
   "metadata": {},
   "outputs": [],
   "source": [
    "from sklearn.linear_model import LogisticRegression\n",
    "modelA = LogisticRegression(solver='lbfgs', multi_class='auto')\n",
    "modelB = LogisticRegression(solver='liblinear', multi_class='auto')\n",
    "modelC = DecisionTreeClassifier()"
   ]
  },
  {
   "cell_type": "code",
   "execution_count": 53,
   "metadata": {},
   "outputs": [
    {
     "name": "stderr",
     "output_type": "stream",
     "text": [
      "C:\\Users\\SONY Z\\AppData\\Local\\Programs\\Python\\Python38-32\\lib\\site-packages\\sklearn\\linear_model\\_logistic.py:938: ConvergenceWarning: lbfgs failed to converge (status=1):\n",
      "STOP: TOTAL NO. of ITERATIONS REACHED LIMIT.\n",
      "\n",
      "Increase the number of iterations (max_iter) or scale the data as shown in:\n",
      "    https://scikit-learn.org/stable/modules/preprocessing.html\n",
      "Please also refer to the documentation for alternative solver options:\n",
      "    https://scikit-learn.org/stable/modules/linear_model.html#logistic-regression\n",
      "  n_iter_i = _check_optimize_result(\n"
     ]
    },
    {
     "data": {
      "text/plain": [
       "DecisionTreeClassifier(ccp_alpha=0.0, class_weight=None, criterion='gini',\n",
       "                       max_depth=None, max_features=None, max_leaf_nodes=None,\n",
       "                       min_impurity_decrease=0.0, min_impurity_split=None,\n",
       "                       min_samples_leaf=1, min_samples_split=2,\n",
       "                       min_weight_fraction_leaf=0.0, presort='deprecated',\n",
       "                       random_state=None, splitter='best')"
      ]
     },
     "execution_count": 53,
     "metadata": {},
     "output_type": "execute_result"
    }
   ],
   "source": [
    "modelA.fit(xtr, ytr)\n",
    "modelB.fit(xtr, ytr)\n",
    "modelC.fit(xtr, ytr)"
   ]
  },
  {
   "cell_type": "markdown",
   "metadata": {},
   "source": [
    "## 4. ROC AUC\n",
    "\n",
    "A receiver operating characteristic curve, or ROC curve, is a graphical plot that illustrates the diagnostic ability of a binary classifier system as its discrimination threshold is varied. \n",
    "\n",
    "https://en.wikipedia.org/wiki/Receiver_operating_characteristic"
   ]
  },
  {
   "cell_type": "code",
   "execution_count": 45,
   "metadata": {},
   "outputs": [],
   "source": [
    "from sklearn.metrics import roc_auc_score, roc_curve, auc"
   ]
  },
  {
   "cell_type": "code",
   "execution_count": 57,
   "metadata": {},
   "outputs": [],
   "source": [
    "fpra0, tpra0, thrsa0 = roc_curve(\n",
    "    yts, modelA.predict_proba(xts)[:, 0], pos_label=2)\n",
    "\n",
    "fprb0, tprb0, thrsb0 = roc_curve(\n",
    "    yts, modelB.predict_proba(xts)[:, 0], pos_label=2)\n",
    "\n",
    "fprc0, tprc0, thrsc0 = roc_curve(\n",
    "    yts, modelC.predict_proba(xts)[:, 0], pos_label=2)"
   ]
  },
  {
   "cell_type": "code",
   "execution_count": 58,
   "metadata": {},
   "outputs": [],
   "source": [
    "fpra1, tpra1, thrsa1 = roc_curve(\n",
    "    yts, modelA.predict_proba(xts)[:, 1], pos_label=2)\n",
    "\n",
    "fprb1, tprb1, thrsb1 = roc_curve(\n",
    "    yts, modelB.predict_proba(xts)[:, 1], pos_label=2)\n",
    "\n",
    "fprc1, tprc1, thrsc1 = roc_curve(\n",
    "    yts, modelC.predict_proba(xts)[:, 1], pos_label=2)"
   ]
  },
  {
   "cell_type": "code",
   "execution_count": 59,
   "metadata": {},
   "outputs": [],
   "source": [
    "fpra2, tpra2, thrsa2 = roc_curve(\n",
    "    yts, modelA.predict_proba(xts)[:, 2], pos_label=2)\n",
    "\n",
    "fprb2, tprb2, thrsb2 = roc_curve(\n",
    "    yts, modelB.predict_proba(xts)[:, 2], pos_label=2)\n",
    "\n",
    "fprc2, tprc2, thrsc2 = roc_curve(\n",
    "    yts, modelC.predict_proba(xts)[:, 2], pos_label=2)"
   ]
  },
  {
   "cell_type": "code",
   "execution_count": 62,
   "metadata": {},
   "outputs": [
    {
     "data": {
      "text/plain": [
       "(0.015384615384615382,\n",
       " 0.0,\n",
       " 0.26,\n",
       " 0.28307692307692306,\n",
       " 0.4676923076923077,\n",
       " 0.37692307692307686,\n",
       " 0.9938461538461539,\n",
       " 0.9876923076923076,\n",
       " 0.8630769230769232)"
      ]
     },
     "execution_count": 62,
     "metadata": {},
     "output_type": "execute_result"
    }
   ],
   "source": [
    "# ROC Score\n",
    "\n",
    "aucA0 = auc(fpra0, tpra0)\n",
    "aucB0 = auc(fprb0, tprb0)\n",
    "aucC0 = auc(fprc0, tprc0)\n",
    "\n",
    "aucA1 = auc(fpra1, tpra1)\n",
    "aucB1 = auc(fprb1, tprb1)\n",
    "aucC1 = auc(fprc1, tprc1)\n",
    "\n",
    "aucA2 = auc(fpra2, tpra2)\n",
    "aucB2 = auc(fprb2, tprb2)\n",
    "aucC2 = auc(fprc2, tprc2)\n",
    "\n",
    "aucA0, aucB0, aucC0, aucA1, aucB1, aucC1, aucA2, aucB2, aucC2"
   ]
  },
  {
   "cell_type": "code",
   "execution_count": 63,
   "metadata": {},
   "outputs": [
    {
     "data": {
      "text/plain": [
       "(0.9970414201183432, 0.990138067061144, 0.9038461538461539)"
      ]
     },
     "execution_count": 63,
     "metadata": {},
     "output_type": "execute_result"
    }
   ],
   "source": [
    "auA = roc_auc_score(\n",
    "    np.array(yts.tolist()),\n",
    "    modelA.predict_proba(xts), labels=[0,1,2], multi_class='ovo', \n",
    "    average='macro')\n",
    "\n",
    "auB = roc_auc_score(\n",
    "    np.array(yts.tolist()),\n",
    "    modelB.predict_proba(xts), labels=[0,1,2], multi_class='ovo', \n",
    "    average='macro')\n",
    "\n",
    "auC = roc_auc_score(\n",
    "    np.array(yts.tolist()),\n",
    "    modelC.predict_proba(xts), labels=[0,1,2], multi_class='ovo', \n",
    "    average='macro')\n",
    "\n",
    "auA, auB, auC"
   ]
  },
  {
   "cell_type": "markdown",
   "metadata": {},
   "source": [
    "### **ROC Curve**\n",
    "A common way to visualize the trade-offs of different thresholds is by using an ROC curve, a plot of the true positive rate (# true positives/ total # positives) versus the false positive rate (# false positives / total # negatives) for all possible choices of thresholds. A model with good classification accuracy should have significantly more true positives than false positives at all thresholds.\n",
    "\n",
    "The optimum position for roc curve is towards the top left corner where the specificity and sensitivity are at optimum levels\n"
   ]
  },
  {
   "cell_type": "code",
   "execution_count": 69,
   "metadata": {},
   "outputs": [
    {
     "data": {
      "image/png": "[encoded data removed]",
      "text/plain": [
       "<Figure size 432x288 with 1 Axes>"
      ]
     },
     "metadata": {
      "needs_background": "light"
     },
     "output_type": "display_data"
    }
   ],
   "source": [
    "plt.plot(fpra0, tpra0)\n",
    "plt.plot(fprb0, tprb0)\n",
    "plt.plot(fprc0, tprc0)\n",
    "\n",
    "plt.title('ROC curve for Spesies classifier')\n",
    "plt.xlabel('False positive rate (0-Specificity)')\n",
    "plt.ylabel('True positive rate (Sensitivity)')\n",
    "plt.grid(True)"
   ]
  },
  {
   "cell_type": "code",
   "execution_count": 70,
   "metadata": {},
   "outputs": [
    {
     "data": {
      "image/png": "[encoded data removed]",
      "text/plain": [
       "<Figure size 432x288 with 1 Axes>"
      ]
     },
     "metadata": {
      "needs_background": "light"
     },
     "output_type": "display_data"
    }
   ],
   "source": [
    "plt.plot(fpra1, tpra1)\n",
    "plt.plot(fprb1, tprb1)\n",
    "plt.plot(fprc1, tprc1)\n",
    "\n",
    "plt.title('ROC curve for Spesies classifier')\n",
    "plt.xlabel('False positive rate (1-Specificity)')\n",
    "plt.ylabel('True positive rate (Sensitivity)')\n",
    "plt.grid(True)"
   ]
  },
  {
   "cell_type": "code",
   "execution_count": 71,
   "metadata": {},
   "outputs": [
    {
     "data": {
      "image/png": "[encoded data removed]",
      "text/plain": [
       "<Figure size 432x288 with 1 Axes>"
      ]
     },
     "metadata": {
      "needs_background": "light"
     },
     "output_type": "display_data"
    }
   ],
   "source": [
    "plt.plot(fpra2, tpra2)\n",
    "plt.plot(fprb2, tprb2)\n",
    "plt.plot(fprc2, tprc2)\n",
    "\n",
    "plt.title('ROC curve for Spesies classifier')\n",
    "plt.xlabel('False positive rate (2-Specificity)')\n",
    "plt.ylabel('True positive rate (Sensitivity)')\n",
    "plt.grid(True)"
   ]
  },
  {
   "cell_type": "markdown",
   "metadata": {},
   "source": [
    "## **Reference**\n",
    "\n",
    "- Scikitlearn, \"sklearn.tree.DecisionTreeClassifier\", https://scikit-learn.org/stable/modules/generated/sklearn.tree.DecisionTreeClassifier.html\n",
    "- Afroz Chakure, \"Decision Tree Classification\", https://towardsdatascience.com/decision-tree-classification-de64fc4d5aac\n",
    "- Samet Girgin, \"Decision Tree Classification in 9 Steps with Python\", https://medium.com/pursuitnotes/decision-tree-classification-in-9-steps-with-python-600c85ef56de\n",
    "- Mohtadi Ben Fraj, \"InDepth: Parameter tuning for Decision Tree\", https://medium.com/@mohtedibf/indepth-parameter-tuning-for-decision-tree-6753118a03c3\n",
    "- Avinash Navlani, \"Decision Tree Classification in Python\", https://www.datacamp.com/community/tutorials/decision-tree-classification-python\n",
    "- Rishabh Jain, \"Decision Tree. It begins here.\", https://medium.com/@rishabhjain_22692/decision-trees-it-begins-here-93ff54ef134\n",
    "- Wikipedia, \"Receiver operating characteristic\", https://en.wikipedia.org/wiki/Receiver_operating_characteristic"
   ]
  }
 ],
 "metadata": {
  "kernelspec": {
   "display_name": "Python 3.8.1 32-bit",
   "language": "python",
   "name": "python38132bitf9f79e71b62e4503b25567c1d3914456"
  },
  "language_info": {
   "codemirror_mode": {
    "name": "ipython",
    "version": 3
   },
   "file_extension": ".py",
   "mimetype": "text/x-python",
   "name": "python",
   "nbconvert_exporter": "python",
   "pygments_lexer": "ipython3",
   "version": "3.8.1"
  }
 },
 "nbformat": 4,
 "nbformat_minor": 4
}
